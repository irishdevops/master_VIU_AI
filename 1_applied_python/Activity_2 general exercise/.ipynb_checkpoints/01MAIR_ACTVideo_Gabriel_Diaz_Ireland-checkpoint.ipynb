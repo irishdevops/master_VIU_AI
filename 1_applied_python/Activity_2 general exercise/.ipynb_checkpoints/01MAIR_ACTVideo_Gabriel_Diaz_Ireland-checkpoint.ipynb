{
 "cells": [
  {
   "attachments": {},
   "cell_type": "markdown",
   "metadata": {},
   "source": [
    "\n",
    "## 01MIAR - Actividad Video Valenbici\n",
    "\n",
    "## NumPy y Pandas\n",
    "\n",
    "### Objetivos:\n",
    "- Aplicar diferentes técnicas de tratamiento de estructuras numéricas con Numpy y datos estructurados con Pandas.\n",
    "\n",
    "### Instrucciones:\n",
    "- Mantener una estructura limpia, comentando código y secuenciando los apartados con el código correspondiente que resuelva la actividad.\n",
    "- Como criterio de evaluación se tendrá en cuenta el resultado, la consecución del mismo, estilo, comentarios y adecuación. Siempre será tenido en cuenta cualquier detalle técnico avanzado o no visto en clase relacionado con el tema (explicar el porqué y usabilidad).\n",
    "- No está permitido compartir los resultados ni el código en ninguno de los foros.\n",
    "- Revisar los temas 3 y 4, así como las sesiones sobre Numpy y Pandas para aplicar dichos contenidos.\n",
    "- Proponer las respuestas en las celdas a dicho efecto en cada punto, si se necesitan más celdas añadirlas en su sitio correspondiente\n",
    "- Mostrar de manera clara la respuesta a las preguntas, mediante código\n",
    "\n",
    "### Entrega:\n",
    "- Este mismo notebook con las respuetas\n",
    "\n",
    "### Evaluación\n",
    "- Esta actividad corresponde con el 10% de la nota final de la asignatura.\n",
    "\n",
    "### Fecha Realización\n",
    "- Convocatoria 1 - 19/05/2023 al 21/05/2023 hasta las 23:59 UTC+2"
   ]
  },
  {
   "attachments": {},
   "cell_type": "markdown",
   "metadata": {},
   "source": [
    "#### Descripción\n",
    "El conjunto de datos \"valenbici.db\" (fichero disponible adjunto a la actividad) proviene de una descarga de datos del servicio web de la empresa municipal Valenbici, dedicada al alquiler de bicicletas en Valencia.\n",
    "\n",
    "Los datos recabados de este servicio web son de mediciones cada 10 minutos de las estaciones:\n",
    "\n",
    "https://valencia.opendatasoft.com/explore/dataset/valenbisi-disponibilitat-valenbisi-dsiponibilidad/information/\n",
    "\n",
    "Cada estación está compuesta por un número variable de bornetas (total) donde se pueden anclar las bicicletas. Los datos obtenidos de cada estación (registros) refleja el número de bornetas libres (free) y el número de bicicletas disponibles (available).\n",
    "\n",
    "#### Columnas para trabajar:\n",
    "- number: id de la estación\n",
    "- total: número total de bornetas\n",
    "- updated (updated_at en origen): timestamp del estado en de bicis en la estación\n",
    "- available: número de bicis disponibles"
   ]
  },
  {
   "cell_type": "code",
   "execution_count": 1,
   "metadata": {},
   "outputs": [],
   "source": [
    "import pandas as pd\n",
    "import numpy as np\n",
    "import sqlite3"
   ]
  },
  {
   "attachments": {},
   "cell_type": "markdown",
   "metadata": {},
   "source": [
    "## 01\n",
    "Carga de datos de csv (estaciones_bici.csv) en un DataFrame y exploración de datos\n",
    "> Nota: los datos y la libreta de jupyter tienen que estar en la misma carpeta\n"
   ]
  },
  {
   "cell_type": "code",
   "execution_count": 2,
   "metadata": {},
   "outputs": [
    {
     "name": "stdout",
     "output_type": "stream",
     "text": [
      "download\n"
     ]
    }
   ],
   "source": [
    "con = sqlite3.connect('valenbisi.db')\n",
    "\n",
    "cursor = con.cursor()\n",
    "cursor.execute(\"SELECT name FROM sqlite_master WHERE type='table';\")\n",
    "name_table = cursor.fetchall()[0][0]\n",
    "print(name_table)\n",
    "\n",
    "df = pd.read_sql_query(f\"SELECT * FROM {name_table}\", con)[['number','total','updated','free']]\n",
    "con.close()\n",
    "\n",
    "##Con este código seleccionamos los datos de nuestro archivo local valenbisi.db , que está en formato SQLite format 3. Para otras ocasiones puede ser interesante, usar como se nos ha enseñado en clase, técnicas de data mining poara una API abierta."
   ]
  },
  {
   "cell_type": "code",
   "execution_count": 3,
   "metadata": {},
   "outputs": [
    {
     "name": "stdout",
     "output_type": "stream",
     "text": [
      "<class 'pandas.core.frame.DataFrame'>\n",
      "RangeIndex: 222180 entries, 0 to 222179\n",
      "Data columns (total 4 columns):\n",
      " #   Column   Non-Null Count   Dtype \n",
      "---  ------   --------------   ----- \n",
      " 0   number   222180 non-null  int64 \n",
      " 1   total    222180 non-null  int64 \n",
      " 2   updated  222180 non-null  object\n",
      " 3   free     222180 non-null  int64 \n",
      "dtypes: int64(3), object(1)\n",
      "memory usage: 6.8+ MB\n"
     ]
    },
    {
     "data": {
      "text/html": [
       "<div>\n",
       "<style scoped>\n",
       "    .dataframe tbody tr th:only-of-type {\n",
       "        vertical-align: middle;\n",
       "    }\n",
       "\n",
       "    .dataframe tbody tr th {\n",
       "        vertical-align: top;\n",
       "    }\n",
       "\n",
       "    .dataframe thead th {\n",
       "        text-align: right;\n",
       "    }\n",
       "</style>\n",
       "<table border=\"1\" class=\"dataframe\">\n",
       "  <thead>\n",
       "    <tr style=\"text-align: right;\">\n",
       "      <th></th>\n",
       "      <th>number</th>\n",
       "      <th>total</th>\n",
       "      <th>updated</th>\n",
       "      <th>free</th>\n",
       "    </tr>\n",
       "  </thead>\n",
       "  <tbody>\n",
       "    <tr>\n",
       "      <th>0</th>\n",
       "      <td>39</td>\n",
       "      <td>19</td>\n",
       "      <td>2023-05-04 16:20:06</td>\n",
       "      <td>14</td>\n",
       "    </tr>\n",
       "    <tr>\n",
       "      <th>1</th>\n",
       "      <td>46</td>\n",
       "      <td>20</td>\n",
       "      <td>2023-05-04 16:20:06</td>\n",
       "      <td>16</td>\n",
       "    </tr>\n",
       "    <tr>\n",
       "      <th>2</th>\n",
       "      <td>13</td>\n",
       "      <td>24</td>\n",
       "      <td>2023-05-04 16:20:06</td>\n",
       "      <td>9</td>\n",
       "    </tr>\n",
       "    <tr>\n",
       "      <th>3</th>\n",
       "      <td>22</td>\n",
       "      <td>15</td>\n",
       "      <td>2023-05-04 16:20:06</td>\n",
       "      <td>11</td>\n",
       "    </tr>\n",
       "    <tr>\n",
       "      <th>4</th>\n",
       "      <td>24</td>\n",
       "      <td>20</td>\n",
       "      <td>2023-05-04 16:20:06</td>\n",
       "      <td>11</td>\n",
       "    </tr>\n",
       "    <tr>\n",
       "      <th>5</th>\n",
       "      <td>25</td>\n",
       "      <td>23</td>\n",
       "      <td>2023-05-04 16:20:06</td>\n",
       "      <td>5</td>\n",
       "    </tr>\n",
       "    <tr>\n",
       "      <th>6</th>\n",
       "      <td>33</td>\n",
       "      <td>20</td>\n",
       "      <td>2023-05-04 16:20:06</td>\n",
       "      <td>5</td>\n",
       "    </tr>\n",
       "    <tr>\n",
       "      <th>7</th>\n",
       "      <td>17</td>\n",
       "      <td>30</td>\n",
       "      <td>2023-05-04 16:20:06</td>\n",
       "      <td>11</td>\n",
       "    </tr>\n",
       "  </tbody>\n",
       "</table>\n",
       "</div>"
      ],
      "text/plain": [
       "   number  total              updated  free\n",
       "0      39     19  2023-05-04 16:20:06    14\n",
       "1      46     20  2023-05-04 16:20:06    16\n",
       "2      13     24  2023-05-04 16:20:06     9\n",
       "3      22     15  2023-05-04 16:20:06    11\n",
       "4      24     20  2023-05-04 16:20:06    11\n",
       "5      25     23  2023-05-04 16:20:06     5\n",
       "6      33     20  2023-05-04 16:20:06     5\n",
       "7      17     30  2023-05-04 16:20:06    11"
      ]
     },
     "metadata": {},
     "output_type": "display_data"
    },
    {
     "data": {
      "text/plain": [
       "None"
      ]
     },
     "metadata": {},
     "output_type": "display_data"
    },
    {
     "data": {
      "text/html": [
       "<div>\n",
       "<style scoped>\n",
       "    .dataframe tbody tr th:only-of-type {\n",
       "        vertical-align: middle;\n",
       "    }\n",
       "\n",
       "    .dataframe tbody tr th {\n",
       "        vertical-align: top;\n",
       "    }\n",
       "\n",
       "    .dataframe thead th {\n",
       "        text-align: right;\n",
       "    }\n",
       "</style>\n",
       "<table border=\"1\" class=\"dataframe\">\n",
       "  <thead>\n",
       "    <tr style=\"text-align: right;\">\n",
       "      <th></th>\n",
       "      <th>number</th>\n",
       "      <th>total</th>\n",
       "      <th>updated</th>\n",
       "      <th>free</th>\n",
       "    </tr>\n",
       "  </thead>\n",
       "  <tbody>\n",
       "    <tr>\n",
       "      <th>count</th>\n",
       "      <td>222180.000000</td>\n",
       "      <td>222180.000000</td>\n",
       "      <td>222180</td>\n",
       "      <td>222180.000000</td>\n",
       "    </tr>\n",
       "    <tr>\n",
       "      <th>unique</th>\n",
       "      <td>NaN</td>\n",
       "      <td>NaN</td>\n",
       "      <td>815</td>\n",
       "      <td>NaN</td>\n",
       "    </tr>\n",
       "    <tr>\n",
       "      <th>top</th>\n",
       "      <td>NaN</td>\n",
       "      <td>NaN</td>\n",
       "      <td>2023-05-04 16:20:06</td>\n",
       "      <td>NaN</td>\n",
       "    </tr>\n",
       "    <tr>\n",
       "      <th>freq</th>\n",
       "      <td>NaN</td>\n",
       "      <td>NaN</td>\n",
       "      <td>276</td>\n",
       "      <td>NaN</td>\n",
       "    </tr>\n",
       "    <tr>\n",
       "      <th>mean</th>\n",
       "      <td>138.500000</td>\n",
       "      <td>19.818841</td>\n",
       "      <td>NaN</td>\n",
       "      <td>11.079548</td>\n",
       "    </tr>\n",
       "    <tr>\n",
       "      <th>std</th>\n",
       "      <td>79.673993</td>\n",
       "      <td>5.472917</td>\n",
       "      <td>NaN</td>\n",
       "      <td>7.943168</td>\n",
       "    </tr>\n",
       "    <tr>\n",
       "      <th>min</th>\n",
       "      <td>1.000000</td>\n",
       "      <td>9.000000</td>\n",
       "      <td>NaN</td>\n",
       "      <td>0.000000</td>\n",
       "    </tr>\n",
       "    <tr>\n",
       "      <th>25%</th>\n",
       "      <td>69.750000</td>\n",
       "      <td>15.000000</td>\n",
       "      <td>NaN</td>\n",
       "      <td>5.000000</td>\n",
       "    </tr>\n",
       "    <tr>\n",
       "      <th>50%</th>\n",
       "      <td>138.500000</td>\n",
       "      <td>20.000000</td>\n",
       "      <td>NaN</td>\n",
       "      <td>11.000000</td>\n",
       "    </tr>\n",
       "    <tr>\n",
       "      <th>75%</th>\n",
       "      <td>207.250000</td>\n",
       "      <td>20.000000</td>\n",
       "      <td>NaN</td>\n",
       "      <td>16.000000</td>\n",
       "    </tr>\n",
       "    <tr>\n",
       "      <th>max</th>\n",
       "      <td>276.000000</td>\n",
       "      <td>40.000000</td>\n",
       "      <td>NaN</td>\n",
       "      <td>40.000000</td>\n",
       "    </tr>\n",
       "  </tbody>\n",
       "</table>\n",
       "</div>"
      ],
      "text/plain": [
       "               number          total              updated           free\n",
       "count   222180.000000  222180.000000               222180  222180.000000\n",
       "unique            NaN            NaN                  815            NaN\n",
       "top               NaN            NaN  2023-05-04 16:20:06            NaN\n",
       "freq              NaN            NaN                  276            NaN\n",
       "mean       138.500000      19.818841                  NaN      11.079548\n",
       "std         79.673993       5.472917                  NaN       7.943168\n",
       "min          1.000000       9.000000                  NaN       0.000000\n",
       "25%         69.750000      15.000000                  NaN       5.000000\n",
       "50%        138.500000      20.000000                  NaN      11.000000\n",
       "75%        207.250000      20.000000                  NaN      16.000000\n",
       "max        276.000000      40.000000                  NaN      40.000000"
      ]
     },
     "metadata": {},
     "output_type": "display_data"
    },
    {
     "data": {
      "text/plain": [
       "222180"
      ]
     },
     "execution_count": 3,
     "metadata": {},
     "output_type": "execute_result"
    }
   ],
   "source": [
    "display(df.head(8),df.info(),df.describe(include = 'all'))\n",
    "len(df)\n",
    "\n",
    "### Conclusiones importantes obtenidas ###\n",
    "##En el momento de ejecucción, obtenemos que: 222180 número de entradas, 276 estaciones inddividuales, si hay estaciones duplicadas dentro del set de datos. El máximo número de espacios en una estación son 40 y la media de bicis libres por estación es 11. Además, para el 75 % de las estaciones, no llegamos a 20 bicis libres\n"
   ]
  },
  {
   "attachments": {},
   "cell_type": "markdown",
   "metadata": {},
   "source": [
    "## 02\n",
    "Obtención del número de estaciones que tienen un total de 30 bornetas\n",
    "¿Qué estaciones son?"
   ]
  },
  {
   "cell_type": "code",
   "execution_count": 9,
   "metadata": {},
   "outputs": [
    {
     "data": {
      "text/plain": [
       "'Existen <<11>> estaciones con capacidad exacta para 30 bicicletas. '"
      ]
     },
     "metadata": {},
     "output_type": "display_data"
    },
    {
     "data": {
      "text/plain": [
       "'Estas son las estaciones por ID (Columna 2) con capacidad para 30 bicis y su posición en el dataframe original (Columna 1):'"
      ]
     },
     "metadata": {},
     "output_type": "display_data"
    },
    {
     "data": {
      "text/plain": [
       "7       17\n",
       "30      89\n",
       "52     117\n",
       "122    114\n",
       "125    105\n",
       "141    189\n",
       "216    111\n",
       "221    110\n",
       "225    143\n",
       "236    101\n",
       "263    226\n",
       "Name: number, dtype: int64"
      ]
     },
     "metadata": {},
     "output_type": "display_data"
    },
    {
     "data": {
      "text/plain": [
       "'También, revisar la siguiente tabla para detección de errores en los datos, en los que una misma estación tenga capcidades distintas en filas distintas'"
      ]
     },
     "metadata": {},
     "output_type": "display_data"
    },
    {
     "data": {
      "text/html": [
       "<div>\n",
       "<style scoped>\n",
       "    .dataframe tbody tr th:only-of-type {\n",
       "        vertical-align: middle;\n",
       "    }\n",
       "\n",
       "    .dataframe tbody tr th {\n",
       "        vertical-align: top;\n",
       "    }\n",
       "\n",
       "    .dataframe thead th {\n",
       "        text-align: right;\n",
       "    }\n",
       "</style>\n",
       "<table border=\"1\" class=\"dataframe\">\n",
       "  <thead>\n",
       "    <tr style=\"text-align: right;\">\n",
       "      <th></th>\n",
       "      <th>number</th>\n",
       "      <th>total</th>\n",
       "      <th>updated</th>\n",
       "      <th>free</th>\n",
       "    </tr>\n",
       "  </thead>\n",
       "  <tbody>\n",
       "  </tbody>\n",
       "</table>\n",
       "</div>"
      ],
      "text/plain": [
       "Empty DataFrame\n",
       "Columns: [number, total, updated, free]\n",
       "Index: []"
      ]
     },
     "metadata": {},
     "output_type": "display_data"
    },
    {
     "data": {
      "text/plain": [
       "'Si no hay entradas todo está correcto'"
      ]
     },
     "metadata": {},
     "output_type": "display_data"
    }
   ],
   "source": [
    "\n",
    "\n",
    "###1.  Limpieza previa\n",
    "#  Es de vital importancia retirar las estaciones duplicadas, ya que para esta resolución no nos son útiles. Hacemos esto al principio por eficiencia y las retiramos por capacidad de estación y por ID. Usamos la función drop_duplicates() de pandas.\n",
    "header = df.iloc[0]\n",
    "\n",
    "df1 = df.drop_duplicates(subset=['total', 'number']) \n",
    "\n",
    "### 2.1. Solución 1 ####\n",
    "#Podemos usar la biblioteca de pandas para filtar el dataframe directamente\n",
    "Total_30_1= df1[df1['total'] == 30]\n",
    "Total_30_1\n",
    "\n",
    "### 2.2. Solución 2 ####\n",
    "#Podemos usar la función Pandas .query() para filtrar por una condición o más\n",
    "Total_30_2= df1.query('total == 30')\n",
    "Total_30_2\n",
    "\n",
    "# Paso de Seguridad -> Detectar anomalías en el dataframe. Si después de la limpieza de duplicados por doble columna, seguimos teniendo duplicados por 'number' esto quiere decir que tenemos estaciones recogidas con distintas capacidades pero mismo ID. Estas las pondremos aparte.\n",
    "\n",
    "CleanTotal_30_1=Total_30_1.drop_duplicates(subset=['number'],keep=False)\n",
    "ErrorTotal_30_1 =Total_30_1[Total_30_1.duplicated(subset=['number'], keep=False)]\n",
    "\n",
    "#### 3.1 Paso final, Outputs ###\n",
    "# En cualquiera de los casos, tenemos qu contar el número de filas restantes en nuestro dataframe y además proporcionar la lista con el número de estacion. \n",
    "display(\"Existen <<\" +  str(len(CleanTotal_30_1)) + \">> estaciones con capacidad exacta para 30 bicicletas. \", \"Estas son las estaciones por ID (Columna 2) con capacidad para 30 bicis y su posición en el dataframe original (Columna 1):\" , CleanTotal_30_1['number'], \"También, revisar la siguiente tabla para detección de errores en los datos, en los que una misma estación tenga capcidades distintas en filas distintas\",ErrorTotal_30_1 , \"Si no hay entradas todo está correcto\")\n"
   ]
  },
  {
   "attachments": {},
   "cell_type": "markdown",
   "metadata": {},
   "source": [
    "## 03\n",
    "Número de estación con la media más alta de bicis disponibles"
   ]
  },
  {
   "cell_type": "code",
   "execution_count": 12,
   "metadata": {},
   "outputs": [
    {
     "data": {
      "text/plain": [
       "'Para el rango de fechas seleccionados, la estación que suele tener el mayor número de bicis disponibles es la estación con ID <<88>> con una media de bicis disponibles de 34.51'"
      ]
     },
     "metadata": {},
     "output_type": "display_data"
    }
   ],
   "source": [
    "## 1. Como hemos visto en clase, podemos utilizar df.groupby para recoger todas las estaciones en grupos y luego hacer las medias de esos grupos por separada.\n",
    "##Cabe destacar, que python daba el siguiente mensaje usando la unción aportada en clase. The default value of numeric_only in DataFrameGroupBy.mean is deprecated. In a future version, numeric_only will default to False. Either specify numeric_only or select only columns which should be valid for the function.\n",
    "## En consecuencia añadimos  mean(numeric_only=True) para adaptarnos a futuras versiones\n",
    "df2 = df.groupby('number').mean(numeric_only=True)\n",
    "\n",
    "## 2. Ordenamos descendiendo nuestas medias de bici libres para detectar fácilemnte la mayor y que se quede en la primera fila de la tabla.\n",
    "sorted_df2= df2.sort_values(by='free', ascending=False)\n",
    "\n",
    "## 3. Sacamos el resultado\n",
    "\n",
    "display(\"Para el rango de fechas seleccionados, la estación que suele tener el mayor número de bicis disponibles es la estación con ID <<\" + str(sorted_df2.iloc[0].name) + \">> con una media de bicis disponibles de \" + str(sorted_df2.iloc[0]['free'].round(2)))\n",
    "\n"
   ]
  },
  {
   "attachments": {},
   "cell_type": "markdown",
   "metadata": {},
   "source": [
    "## 04\n",
    "Realizar el histograma de bicis disponibles de la estación del punto anterior"
   ]
  },
  {
   "cell_type": "code",
   "execution_count": 14,
   "metadata": {},
   "outputs": [
    {
     "data": {
      "text/plain": [
       "'Frecuencia de bicicletas libres siendo cada unidad de frecuencia una actualización del status. Estación {88}'"
      ]
     },
     "metadata": {},
     "output_type": "display_data"
    },
    {
     "data": {
      "text/plain": [
       "<AxesSubplot: ylabel='Frequency'>"
      ]
     },
     "execution_count": 14,
     "metadata": {},
     "output_type": "execute_result"
    },
    {
     "data": {
      "image/png": "[encoded data removed]",
      "text/plain": [
       "<Figure size 640x480 with 1 Axes>"
      ]
     },
     "metadata": {},
     "output_type": "display_data"
    }
   ],
   "source": [
    "# 1 Para realizar el histograma, vamos a escoger un dataframe con solamente datos de esa estación de bici. Vamos a realizar el proceso entero anterior en caso de que se evalue cada celda por separado.\n",
    "# 1.1 Detectamos el ID de estación\n",
    "\n",
    "dfID = df.groupby('number').mean(numeric_only=True)\n",
    "sorted_dfID= dfID.sort_values(by='free', ascending=False)\n",
    "ID = sorted_dfID.iloc[0].name\n",
    "\n",
    "# 1.2 Filtramos por el ID\n",
    "df3= df.query('number == @ID')\n",
    "\n",
    "# 2 Utilizamos el dataframe obtenido para crear nuestro histograma\n",
    "display(\"Frecuencia de bicicletas libres siendo cada unidad de frecuencia una actualización del status. Estación \" + str({ID}))\n",
    "\n",
    "df['free'].plot(kind='hist', xlabel='Bicicletas', ylabel='Frecuencia',width = 0.7, bins=40,xticks= range(0,42,2))\n",
    "\n",
    "\n",
    "### NOTA: Como se pide que usemos solamente Pandas y Numpy, no generamos un gráfico más elaborado con matplot\n",
    "\n",
    "## En cambio, usamos las propias propiedades de .plot() de pandas para dar al histograma una visualización más precisa, agrupando por el número máximo de bicis posibles (40) según visto en el análisis de exploración.\n",
    "\n",
    "\n",
    "### NOTA: Destacar también, que en caso de continuar con un análisis, habría que revisar como se distribuyen los updates(Actualziaciones del .db) y quizá juntar una media de bicis libres por día, etc... para dar un gráfico adapatado a las necesidades del análisis. Para este gráfico, es la distribución de todas las actualizaciones, sin tener en cuenta el día que se hizo ni realizar operaciones al respecto.\n"
   ]
  },
  {
   "attachments": {},
   "cell_type": "markdown",
   "metadata": {},
   "source": [
    "## 05\n",
    "Realizar gráfica con  la línea temporal de bicis disponibles de la estación del punto anterior. Pista, es necesario cambiar el índice a uno tipo fecha"
   ]
  },
  {
   "cell_type": "code",
   "execution_count": 17,
   "metadata": {},
   "outputs": [
    {
     "name": "stderr",
     "output_type": "stream",
     "text": [
      "C:\\Users\\díazirg\\AppData\\Local\\Temp\\1\\ipykernel_3376\\3355597012.py:7: SettingWithCopyWarning: \n",
      "A value is trying to be set on a copy of a slice from a DataFrame.\n",
      "Try using .loc[row_indexer,col_indexer] = value instead\n",
      "\n",
      "See the caveats in the documentation: https://pandas.pydata.org/pandas-docs/stable/user_guide/indexing.html#returning-a-view-versus-a-copy\n",
      "  df4['updated']=pd.to_datetime(df4['updated'])\n"
     ]
    },
    {
     "data": {
      "text/plain": [
       "'Bicicletas disponibles (Línea temporal)'"
      ]
     },
     "metadata": {},
     "output_type": "display_data"
    },
    {
     "data": {
      "text/plain": [
       "<AxesSubplot: xlabel='updated'>"
      ]
     },
     "metadata": {},
     "output_type": "display_data"
    },
    {
     "data": {
      "image/png": "[encoded data removed]",
      "text/plain": [
       "<Figure size 640x480 with 1 Axes>"
      ]
     },
     "metadata": {},
     "output_type": "display_data"
    }
   ],
   "source": [
    "# 1. Al igual que en los puntos anteriores, nos quedamos solo con los datos necesarios. Cambiamos a tipo fecha durante esta transformación\n",
    "\n",
    "dfID = df.groupby('number').mean(numeric_only=True)\n",
    "sorted_dfID= dfID.sort_values(by='free', ascending=False)\n",
    "ID = sorted_dfID.iloc[0].name\n",
    "df4= df.query('number == @ID')##Interesante que cuando queramos incluir una variable en el filtro se hace con @ en vez de con {} que es como se hace en la función display()\n",
    "df4['updated']=pd.to_datetime(df4['updated'])\n",
    "\n",
    "# 2. Realizamos el plot y vemos que sale correcto\n",
    "\n",
    "display(\"Bicicletas disponibles (Línea temporal)\",df4.plot(x='updated', y='free', kind='line'))"
   ]
  },
  {
   "cell_type": "code",
   "execution_count": null,
   "metadata": {},
   "outputs": [],
   "source": []
  }
 ],
 "metadata": {
  "kernelspec": {
   "display_name": "Python 3 (ipykernel)",
   "language": "python",
   "name": "python3"
  },
  "language_info": {
   "codemirror_mode": {
    "name": "ipython",
    "version": 3
   },
   "file_extension": ".py",
   "mimetype": "text/x-python",
   "name": "python",
   "nbconvert_exporter": "python",
   "pygments_lexer": "ipython3",
   "version": "3.11.2"
  }
 },
 "nbformat": 4,
 "nbformat_minor": 4
}
